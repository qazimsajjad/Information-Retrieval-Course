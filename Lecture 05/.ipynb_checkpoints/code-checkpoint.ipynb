{
 "cells": [
  {
   "cell_type": "code",
   "execution_count": 3,
   "id": "77e3f751",
   "metadata": {},
   "outputs": [
    {
     "ename": "ModuleNotFoundError",
     "evalue": "No module named 'keras'",
     "output_type": "error",
     "traceback": [
      "\u001b[1;31m---------------------------------------------------------------------------\u001b[0m",
      "\u001b[1;31mModuleNotFoundError\u001b[0m                       Traceback (most recent call last)",
      "Cell \u001b[1;32mIn[3], line 3\u001b[0m\n\u001b[0;32m      1\u001b[0m \u001b[38;5;28;01mimport\u001b[39;00m \u001b[38;5;21;01mnumpy\u001b[39;00m \u001b[38;5;28;01mas\u001b[39;00m \u001b[38;5;21;01mnp\u001b[39;00m\n\u001b[0;32m      2\u001b[0m \u001b[38;5;28;01mimport\u001b[39;00m \u001b[38;5;21;01mos\u001b[39;00m\n\u001b[1;32m----> 3\u001b[0m \u001b[38;5;28;01mfrom\u001b[39;00m \u001b[38;5;21;01mkeras\u001b[39;00m\u001b[38;5;21;01m.\u001b[39;00m\u001b[38;5;21;01mpreprocessing\u001b[39;00m \u001b[38;5;28;01mimport\u001b[39;00m image\n\u001b[0;32m      4\u001b[0m \u001b[38;5;28;01mfrom\u001b[39;00m \u001b[38;5;21;01mkeras\u001b[39;00m\u001b[38;5;21;01m.\u001b[39;00m\u001b[38;5;21;01mapplications\u001b[39;00m\u001b[38;5;21;01m.\u001b[39;00m\u001b[38;5;21;01mvgg16\u001b[39;00m \u001b[38;5;28;01mimport\u001b[39;00m VGG16, preprocess_input\n\u001b[0;32m      5\u001b[0m \u001b[38;5;28;01mfrom\u001b[39;00m \u001b[38;5;21;01mkeras\u001b[39;00m\u001b[38;5;21;01m.\u001b[39;00m\u001b[38;5;21;01mmodels\u001b[39;00m \u001b[38;5;28;01mimport\u001b[39;00m Model\n",
      "\u001b[1;31mModuleNotFoundError\u001b[0m: No module named 'keras'"
     ]
    }
   ],
   "source": [
    "import numpy as np\n",
    "import os\n",
    "from keras.preprocessing import image\n",
    "from keras.applications.vgg16 import VGG16, preprocess_input\n",
    "from keras.models import Model"
   ]
  },
  {
   "cell_type": "code",
   "execution_count": null,
   "id": "8b206be8",
   "metadata": {},
   "outputs": [],
   "source": [
    "# Load pre-trained VGG16 model without top (fully connected layers)\n",
    "base_model = VGG16(weights='imagenet', include_top=False)\n",
    "\n",
    "# Remove the last few layers to obtain features\n",
    "model = Model(inputs=base_model.input, outputs=base_model.get_layer('block5_pool').output)"
   ]
  },
  {
   "cell_type": "code",
   "execution_count": 2,
   "id": "9a8ff9e8",
   "metadata": {},
   "outputs": [],
   "source": [
    "def extract_features(image_path):\n",
    "    img = image.load_img(image_path, target_size=(224, 224))\n",
    "    x = image.img_to_array(img)\n",
    "    x = np.expand_dims(x, axis=0)\n",
    "    x = preprocess_input(x)\n",
    "    features = model.predict(x)\n",
    "    return features.flatten()\n",
    "\n",
    "# Define a function to compute similarity/distance between feature vectors\n",
    "def compute_similarity(feature1, feature2):\n",
    "    # Here, you can use any distance metric like Euclidean distance, cosine similarity, etc.\n",
    "    return np.dot(feature1, feature2) / (np.linalg.norm(feature1) * np.linalg.norm(feature2))\n"
   ]
  },
  {
   "cell_type": "code",
   "execution_count": null,
   "id": "feae5d59",
   "metadata": {},
   "outputs": [],
   "source": [
    "# Example usage:\n",
    "# Directory containing your images\n",
    "image_dir = 'path/to/your/image/directory'\n",
    "\n",
    "# List of image file names\n",
    "image_files = os.listdir(image_dir)\n",
    "\n",
    "# Extract features for each image and store in a dictionary\n",
    "features_dict = {}\n",
    "for image_file in image_files:\n",
    "    image_path = os.path.join(image_dir, image_file)\n",
    "    features_dict[image_file] = extract_features(image_path)\n",
    "\n",
    "# Query image\n",
    "query_image_path = 'path/to/your/query/image.jpg'\n",
    "query_features = extract_features(query_image_path)\n",
    "\n",
    "# Find most similar images\n",
    "similarities = {}\n",
    "for image_file, features in features_dict.items():\n",
    "    similarity = compute_similarity(query_features, features)\n",
    "    similarities[image_file] = similarity\n",
    "\n",
    "# Sort images by similarity\n",
    "sorted_similarities = sorted(similarities.items(), key=lambda x: x[1], reverse=True)\n",
    "\n",
    "# Display top N similar images\n",
    "top_n = 5\n",
    "for i in range(top_n):\n",
    "    image_file, similarity = sorted_similarities[i]\n",
    "    print(f\"Similarity with {image_file}: {similarity}\")"
   ]
  }
 ],
 "metadata": {
  "kernelspec": {
   "display_name": "Python 3 (ipykernel)",
   "language": "python",
   "name": "python3"
  },
  "language_info": {
   "codemirror_mode": {
    "name": "ipython",
    "version": 3
   },
   "file_extension": ".py",
   "mimetype": "text/x-python",
   "name": "python",
   "nbconvert_exporter": "python",
   "pygments_lexer": "ipython3",
   "version": "3.11.5"
  }
 },
 "nbformat": 4,
 "nbformat_minor": 5
}
